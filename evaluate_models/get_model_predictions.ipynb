{
 "cells": [
  {
   "cell_type": "code",
   "execution_count": 1,
   "id": "6304985b-1ea4-45bc-8195-6c0a917f574c",
   "metadata": {},
   "outputs": [
    {
     "name": "stderr",
     "output_type": "stream",
     "text": [
      "c:\\users\\proje\\pycharmprojects\\czechqa\\venv\\lib\\site-packages\\tqdm\\auto.py:22: TqdmWarning: IProgress not found. Please update jupyter and ipywidgets. See https://ipywidgets.readthedocs.io/en/stable/user_install.html\n",
      "  from .autonotebook import tqdm as notebook_tqdm\n"
     ]
    }
   ],
   "source": [
    "from transformers import AutoTokenizer, AutoModelForQuestionAnswering, Trainer, BertTokenizerFast\n",
    "import torch\n",
    "from datasets import Dataset\n",
    "from tqdm import tqdm\n",
    "import pandas as pd\n",
    "import numpy as np\n",
    "import warnings\n",
    "import pickle\n",
    "warnings.filterwarnings('ignore')"
   ]
  },
  {
   "cell_type": "code",
   "execution_count": 2,
   "id": "dc0fe5fd-89b9-4c96-b82d-abdc2a5e73f1",
   "metadata": {},
   "outputs": [],
   "source": [
    "model_name = \"Seznam/small-e-czech\"\n",
    "max_length = 384  # 384 for BERT-like 382 for T5 models\n",
    "doc_stride = 128\n",
    "n_best_answers = 20"
   ]
  },
  {
   "cell_type": "markdown",
   "id": "1494d5c5-7ad2-480c-8ab0-0a32f90f15bd",
   "metadata": {},
   "source": [
    "#### Load tokenizer and model "
   ]
  },
  {
   "cell_type": "code",
   "execution_count": null,
   "id": "a277f23f-a92b-44ab-b7d5-53c35d14b205",
   "metadata": {},
   "outputs": [],
   "source": [
    "tokenizer = AutoTokenizer.from_pretrained(model_name)\n",
    "tokenizer"
   ]
  },
  {
   "cell_type": "code",
   "execution_count": null,
   "id": "2912f241-6842-4ec6-9417-68ae75abb2d0",
   "metadata": {},
   "outputs": [],
   "source": [
    "model = AutoModelForQuestionAnswering.from_pretrained(\"ELECTRA_czech_finetuned_sqad\\\\electra-czech-finetuned-sqad\", local_files_only=True)\n",
    "model"
   ]
  },
  {
   "cell_type": "code",
   "execution_count": 5,
   "id": "cac7d9fe-bea0-49e6-bf06-03b1f58a4c11",
   "metadata": {
    "collapsed": true,
    "jupyter": {
     "outputs_hidden": true
    },
    "tags": []
   },
   "outputs": [
    {
     "data": {
      "text/plain": [
       "ElectraForQuestionAnswering(\n",
       "  (electra): ElectraModel(\n",
       "    (embeddings): ElectraEmbeddings(\n",
       "      (word_embeddings): Embedding(30522, 128, padding_idx=0)\n",
       "      (position_embeddings): Embedding(512, 128)\n",
       "      (token_type_embeddings): Embedding(2, 128)\n",
       "      (LayerNorm): LayerNorm((128,), eps=1e-12, elementwise_affine=True)\n",
       "      (dropout): Dropout(p=0.1, inplace=False)\n",
       "    )\n",
       "    (embeddings_project): Linear(in_features=128, out_features=256, bias=True)\n",
       "    (encoder): ElectraEncoder(\n",
       "      (layer): ModuleList(\n",
       "        (0): ElectraLayer(\n",
       "          (attention): ElectraAttention(\n",
       "            (self): ElectraSelfAttention(\n",
       "              (query): Linear(in_features=256, out_features=256, bias=True)\n",
       "              (key): Linear(in_features=256, out_features=256, bias=True)\n",
       "              (value): Linear(in_features=256, out_features=256, bias=True)\n",
       "              (dropout): Dropout(p=0.1, inplace=False)\n",
       "            )\n",
       "            (output): ElectraSelfOutput(\n",
       "              (dense): Linear(in_features=256, out_features=256, bias=True)\n",
       "              (LayerNorm): LayerNorm((256,), eps=1e-12, elementwise_affine=True)\n",
       "              (dropout): Dropout(p=0.1, inplace=False)\n",
       "            )\n",
       "          )\n",
       "          (intermediate): ElectraIntermediate(\n",
       "            (dense): Linear(in_features=256, out_features=1024, bias=True)\n",
       "            (intermediate_act_fn): GELUActivation()\n",
       "          )\n",
       "          (output): ElectraOutput(\n",
       "            (dense): Linear(in_features=1024, out_features=256, bias=True)\n",
       "            (LayerNorm): LayerNorm((256,), eps=1e-12, elementwise_affine=True)\n",
       "            (dropout): Dropout(p=0.1, inplace=False)\n",
       "          )\n",
       "        )\n",
       "        (1): ElectraLayer(\n",
       "          (attention): ElectraAttention(\n",
       "            (self): ElectraSelfAttention(\n",
       "              (query): Linear(in_features=256, out_features=256, bias=True)\n",
       "              (key): Linear(in_features=256, out_features=256, bias=True)\n",
       "              (value): Linear(in_features=256, out_features=256, bias=True)\n",
       "              (dropout): Dropout(p=0.1, inplace=False)\n",
       "            )\n",
       "            (output): ElectraSelfOutput(\n",
       "              (dense): Linear(in_features=256, out_features=256, bias=True)\n",
       "              (LayerNorm): LayerNorm((256,), eps=1e-12, elementwise_affine=True)\n",
       "              (dropout): Dropout(p=0.1, inplace=False)\n",
       "            )\n",
       "          )\n",
       "          (intermediate): ElectraIntermediate(\n",
       "            (dense): Linear(in_features=256, out_features=1024, bias=True)\n",
       "            (intermediate_act_fn): GELUActivation()\n",
       "          )\n",
       "          (output): ElectraOutput(\n",
       "            (dense): Linear(in_features=1024, out_features=256, bias=True)\n",
       "            (LayerNorm): LayerNorm((256,), eps=1e-12, elementwise_affine=True)\n",
       "            (dropout): Dropout(p=0.1, inplace=False)\n",
       "          )\n",
       "        )\n",
       "        (2): ElectraLayer(\n",
       "          (attention): ElectraAttention(\n",
       "            (self): ElectraSelfAttention(\n",
       "              (query): Linear(in_features=256, out_features=256, bias=True)\n",
       "              (key): Linear(in_features=256, out_features=256, bias=True)\n",
       "              (value): Linear(in_features=256, out_features=256, bias=True)\n",
       "              (dropout): Dropout(p=0.1, inplace=False)\n",
       "            )\n",
       "            (output): ElectraSelfOutput(\n",
       "              (dense): Linear(in_features=256, out_features=256, bias=True)\n",
       "              (LayerNorm): LayerNorm((256,), eps=1e-12, elementwise_affine=True)\n",
       "              (dropout): Dropout(p=0.1, inplace=False)\n",
       "            )\n",
       "          )\n",
       "          (intermediate): ElectraIntermediate(\n",
       "            (dense): Linear(in_features=256, out_features=1024, bias=True)\n",
       "            (intermediate_act_fn): GELUActivation()\n",
       "          )\n",
       "          (output): ElectraOutput(\n",
       "            (dense): Linear(in_features=1024, out_features=256, bias=True)\n",
       "            (LayerNorm): LayerNorm((256,), eps=1e-12, elementwise_affine=True)\n",
       "            (dropout): Dropout(p=0.1, inplace=False)\n",
       "          )\n",
       "        )\n",
       "        (3): ElectraLayer(\n",
       "          (attention): ElectraAttention(\n",
       "            (self): ElectraSelfAttention(\n",
       "              (query): Linear(in_features=256, out_features=256, bias=True)\n",
       "              (key): Linear(in_features=256, out_features=256, bias=True)\n",
       "              (value): Linear(in_features=256, out_features=256, bias=True)\n",
       "              (dropout): Dropout(p=0.1, inplace=False)\n",
       "            )\n",
       "            (output): ElectraSelfOutput(\n",
       "              (dense): Linear(in_features=256, out_features=256, bias=True)\n",
       "              (LayerNorm): LayerNorm((256,), eps=1e-12, elementwise_affine=True)\n",
       "              (dropout): Dropout(p=0.1, inplace=False)\n",
       "            )\n",
       "          )\n",
       "          (intermediate): ElectraIntermediate(\n",
       "            (dense): Linear(in_features=256, out_features=1024, bias=True)\n",
       "            (intermediate_act_fn): GELUActivation()\n",
       "          )\n",
       "          (output): ElectraOutput(\n",
       "            (dense): Linear(in_features=1024, out_features=256, bias=True)\n",
       "            (LayerNorm): LayerNorm((256,), eps=1e-12, elementwise_affine=True)\n",
       "            (dropout): Dropout(p=0.1, inplace=False)\n",
       "          )\n",
       "        )\n",
       "        (4): ElectraLayer(\n",
       "          (attention): ElectraAttention(\n",
       "            (self): ElectraSelfAttention(\n",
       "              (query): Linear(in_features=256, out_features=256, bias=True)\n",
       "              (key): Linear(in_features=256, out_features=256, bias=True)\n",
       "              (value): Linear(in_features=256, out_features=256, bias=True)\n",
       "              (dropout): Dropout(p=0.1, inplace=False)\n",
       "            )\n",
       "            (output): ElectraSelfOutput(\n",
       "              (dense): Linear(in_features=256, out_features=256, bias=True)\n",
       "              (LayerNorm): LayerNorm((256,), eps=1e-12, elementwise_affine=True)\n",
       "              (dropout): Dropout(p=0.1, inplace=False)\n",
       "            )\n",
       "          )\n",
       "          (intermediate): ElectraIntermediate(\n",
       "            (dense): Linear(in_features=256, out_features=1024, bias=True)\n",
       "            (intermediate_act_fn): GELUActivation()\n",
       "          )\n",
       "          (output): ElectraOutput(\n",
       "            (dense): Linear(in_features=1024, out_features=256, bias=True)\n",
       "            (LayerNorm): LayerNorm((256,), eps=1e-12, elementwise_affine=True)\n",
       "            (dropout): Dropout(p=0.1, inplace=False)\n",
       "          )\n",
       "        )\n",
       "        (5): ElectraLayer(\n",
       "          (attention): ElectraAttention(\n",
       "            (self): ElectraSelfAttention(\n",
       "              (query): Linear(in_features=256, out_features=256, bias=True)\n",
       "              (key): Linear(in_features=256, out_features=256, bias=True)\n",
       "              (value): Linear(in_features=256, out_features=256, bias=True)\n",
       "              (dropout): Dropout(p=0.1, inplace=False)\n",
       "            )\n",
       "            (output): ElectraSelfOutput(\n",
       "              (dense): Linear(in_features=256, out_features=256, bias=True)\n",
       "              (LayerNorm): LayerNorm((256,), eps=1e-12, elementwise_affine=True)\n",
       "              (dropout): Dropout(p=0.1, inplace=False)\n",
       "            )\n",
       "          )\n",
       "          (intermediate): ElectraIntermediate(\n",
       "            (dense): Linear(in_features=256, out_features=1024, bias=True)\n",
       "            (intermediate_act_fn): GELUActivation()\n",
       "          )\n",
       "          (output): ElectraOutput(\n",
       "            (dense): Linear(in_features=1024, out_features=256, bias=True)\n",
       "            (LayerNorm): LayerNorm((256,), eps=1e-12, elementwise_affine=True)\n",
       "            (dropout): Dropout(p=0.1, inplace=False)\n",
       "          )\n",
       "        )\n",
       "        (6): ElectraLayer(\n",
       "          (attention): ElectraAttention(\n",
       "            (self): ElectraSelfAttention(\n",
       "              (query): Linear(in_features=256, out_features=256, bias=True)\n",
       "              (key): Linear(in_features=256, out_features=256, bias=True)\n",
       "              (value): Linear(in_features=256, out_features=256, bias=True)\n",
       "              (dropout): Dropout(p=0.1, inplace=False)\n",
       "            )\n",
       "            (output): ElectraSelfOutput(\n",
       "              (dense): Linear(in_features=256, out_features=256, bias=True)\n",
       "              (LayerNorm): LayerNorm((256,), eps=1e-12, elementwise_affine=True)\n",
       "              (dropout): Dropout(p=0.1, inplace=False)\n",
       "            )\n",
       "          )\n",
       "          (intermediate): ElectraIntermediate(\n",
       "            (dense): Linear(in_features=256, out_features=1024, bias=True)\n",
       "            (intermediate_act_fn): GELUActivation()\n",
       "          )\n",
       "          (output): ElectraOutput(\n",
       "            (dense): Linear(in_features=1024, out_features=256, bias=True)\n",
       "            (LayerNorm): LayerNorm((256,), eps=1e-12, elementwise_affine=True)\n",
       "            (dropout): Dropout(p=0.1, inplace=False)\n",
       "          )\n",
       "        )\n",
       "        (7): ElectraLayer(\n",
       "          (attention): ElectraAttention(\n",
       "            (self): ElectraSelfAttention(\n",
       "              (query): Linear(in_features=256, out_features=256, bias=True)\n",
       "              (key): Linear(in_features=256, out_features=256, bias=True)\n",
       "              (value): Linear(in_features=256, out_features=256, bias=True)\n",
       "              (dropout): Dropout(p=0.1, inplace=False)\n",
       "            )\n",
       "            (output): ElectraSelfOutput(\n",
       "              (dense): Linear(in_features=256, out_features=256, bias=True)\n",
       "              (LayerNorm): LayerNorm((256,), eps=1e-12, elementwise_affine=True)\n",
       "              (dropout): Dropout(p=0.1, inplace=False)\n",
       "            )\n",
       "          )\n",
       "          (intermediate): ElectraIntermediate(\n",
       "            (dense): Linear(in_features=256, out_features=1024, bias=True)\n",
       "            (intermediate_act_fn): GELUActivation()\n",
       "          )\n",
       "          (output): ElectraOutput(\n",
       "            (dense): Linear(in_features=1024, out_features=256, bias=True)\n",
       "            (LayerNorm): LayerNorm((256,), eps=1e-12, elementwise_affine=True)\n",
       "            (dropout): Dropout(p=0.1, inplace=False)\n",
       "          )\n",
       "        )\n",
       "        (8): ElectraLayer(\n",
       "          (attention): ElectraAttention(\n",
       "            (self): ElectraSelfAttention(\n",
       "              (query): Linear(in_features=256, out_features=256, bias=True)\n",
       "              (key): Linear(in_features=256, out_features=256, bias=True)\n",
       "              (value): Linear(in_features=256, out_features=256, bias=True)\n",
       "              (dropout): Dropout(p=0.1, inplace=False)\n",
       "            )\n",
       "            (output): ElectraSelfOutput(\n",
       "              (dense): Linear(in_features=256, out_features=256, bias=True)\n",
       "              (LayerNorm): LayerNorm((256,), eps=1e-12, elementwise_affine=True)\n",
       "              (dropout): Dropout(p=0.1, inplace=False)\n",
       "            )\n",
       "          )\n",
       "          (intermediate): ElectraIntermediate(\n",
       "            (dense): Linear(in_features=256, out_features=1024, bias=True)\n",
       "            (intermediate_act_fn): GELUActivation()\n",
       "          )\n",
       "          (output): ElectraOutput(\n",
       "            (dense): Linear(in_features=1024, out_features=256, bias=True)\n",
       "            (LayerNorm): LayerNorm((256,), eps=1e-12, elementwise_affine=True)\n",
       "            (dropout): Dropout(p=0.1, inplace=False)\n",
       "          )\n",
       "        )\n",
       "        (9): ElectraLayer(\n",
       "          (attention): ElectraAttention(\n",
       "            (self): ElectraSelfAttention(\n",
       "              (query): Linear(in_features=256, out_features=256, bias=True)\n",
       "              (key): Linear(in_features=256, out_features=256, bias=True)\n",
       "              (value): Linear(in_features=256, out_features=256, bias=True)\n",
       "              (dropout): Dropout(p=0.1, inplace=False)\n",
       "            )\n",
       "            (output): ElectraSelfOutput(\n",
       "              (dense): Linear(in_features=256, out_features=256, bias=True)\n",
       "              (LayerNorm): LayerNorm((256,), eps=1e-12, elementwise_affine=True)\n",
       "              (dropout): Dropout(p=0.1, inplace=False)\n",
       "            )\n",
       "          )\n",
       "          (intermediate): ElectraIntermediate(\n",
       "            (dense): Linear(in_features=256, out_features=1024, bias=True)\n",
       "            (intermediate_act_fn): GELUActivation()\n",
       "          )\n",
       "          (output): ElectraOutput(\n",
       "            (dense): Linear(in_features=1024, out_features=256, bias=True)\n",
       "            (LayerNorm): LayerNorm((256,), eps=1e-12, elementwise_affine=True)\n",
       "            (dropout): Dropout(p=0.1, inplace=False)\n",
       "          )\n",
       "        )\n",
       "        (10): ElectraLayer(\n",
       "          (attention): ElectraAttention(\n",
       "            (self): ElectraSelfAttention(\n",
       "              (query): Linear(in_features=256, out_features=256, bias=True)\n",
       "              (key): Linear(in_features=256, out_features=256, bias=True)\n",
       "              (value): Linear(in_features=256, out_features=256, bias=True)\n",
       "              (dropout): Dropout(p=0.1, inplace=False)\n",
       "            )\n",
       "            (output): ElectraSelfOutput(\n",
       "              (dense): Linear(in_features=256, out_features=256, bias=True)\n",
       "              (LayerNorm): LayerNorm((256,), eps=1e-12, elementwise_affine=True)\n",
       "              (dropout): Dropout(p=0.1, inplace=False)\n",
       "            )\n",
       "          )\n",
       "          (intermediate): ElectraIntermediate(\n",
       "            (dense): Linear(in_features=256, out_features=1024, bias=True)\n",
       "            (intermediate_act_fn): GELUActivation()\n",
       "          )\n",
       "          (output): ElectraOutput(\n",
       "            (dense): Linear(in_features=1024, out_features=256, bias=True)\n",
       "            (LayerNorm): LayerNorm((256,), eps=1e-12, elementwise_affine=True)\n",
       "            (dropout): Dropout(p=0.1, inplace=False)\n",
       "          )\n",
       "        )\n",
       "        (11): ElectraLayer(\n",
       "          (attention): ElectraAttention(\n",
       "            (self): ElectraSelfAttention(\n",
       "              (query): Linear(in_features=256, out_features=256, bias=True)\n",
       "              (key): Linear(in_features=256, out_features=256, bias=True)\n",
       "              (value): Linear(in_features=256, out_features=256, bias=True)\n",
       "              (dropout): Dropout(p=0.1, inplace=False)\n",
       "            )\n",
       "            (output): ElectraSelfOutput(\n",
       "              (dense): Linear(in_features=256, out_features=256, bias=True)\n",
       "              (LayerNorm): LayerNorm((256,), eps=1e-12, elementwise_affine=True)\n",
       "              (dropout): Dropout(p=0.1, inplace=False)\n",
       "            )\n",
       "          )\n",
       "          (intermediate): ElectraIntermediate(\n",
       "            (dense): Linear(in_features=256, out_features=1024, bias=True)\n",
       "            (intermediate_act_fn): GELUActivation()\n",
       "          )\n",
       "          (output): ElectraOutput(\n",
       "            (dense): Linear(in_features=1024, out_features=256, bias=True)\n",
       "            (LayerNorm): LayerNorm((256,), eps=1e-12, elementwise_affine=True)\n",
       "            (dropout): Dropout(p=0.1, inplace=False)\n",
       "          )\n",
       "        )\n",
       "      )\n",
       "    )\n",
       "  )\n",
       "  (qa_outputs): Linear(in_features=256, out_features=2, bias=True)\n",
       ")"
      ]
     },
     "execution_count": 5,
     "metadata": {},
     "output_type": "execute_result"
    }
   ],
   "source": [
    "device = torch.device(\"cpu\")\n",
    "model.to(device)"
   ]
  },
  {
   "cell_type": "markdown",
   "id": "47e325a6-79a1-486e-a311-5020824eb700",
   "metadata": {},
   "source": [
    "#### Add answer sentence to sqad dataset for Answer Selection evaluation"
   ]
  },
  {
   "cell_type": "code",
   "execution_count": 2,
   "id": "c7b0f876-3ab0-4ee3-b81d-9ed91d922f6b",
   "metadata": {},
   "outputs": [],
   "source": [
    "sqad_csv = pd.read_csv(\"sqad_dataframe.csv\")"
   ]
  },
  {
   "cell_type": "code",
   "execution_count": 3,
   "id": "7da219ec-c398-4970-a8c3-58708a2e7af2",
   "metadata": {},
   "outputs": [],
   "source": [
    "sqad_csv = sqad_csv.rename(columns={'Unnamed: 0': 'id'})"
   ]
  },
  {
   "cell_type": "code",
   "execution_count": 74,
   "id": "1f2b49fb-0e98-4c04-8216-83edfedfa639",
   "metadata": {},
   "outputs": [],
   "source": [
    "test_df = pd.read_json(\"czech_test.json\")"
   ]
  },
  {
   "cell_type": "code",
   "execution_count": 10,
   "id": "9959a606-e851-4502-87b1-c39a21f43d92",
   "metadata": {},
   "outputs": [],
   "source": [
    "merged = pd.merge(test_df, sqad_csv, on=\"id\")"
   ]
  },
  {
   "cell_type": "code",
   "execution_count": 11,
   "id": "f6b0264a-ae8d-4dfd-bd15-45abe95676e2",
   "metadata": {
    "tags": []
   },
   "outputs": [],
   "source": [
    "merged = merged.rename(columns={\"question_y\":\"question\"})"
   ]
  },
  {
   "cell_type": "code",
   "execution_count": 12,
   "id": "227a36c9-32a8-4adf-a2f9-9825aac9bd55",
   "metadata": {},
   "outputs": [],
   "source": [
    "merged = merged.drop(columns=[\"question_x\",\"text\",\"answer\"])"
   ]
  },
  {
   "cell_type": "code",
   "execution_count": 14,
   "id": "4804a7c0-59fb-4a1a-bf5d-e5e362da765e",
   "metadata": {},
   "outputs": [],
   "source": [
    "def get_answer_sentence_span(row):\n",
    "    start_index = row.context.index(row.answer_sentence)\n",
    "    end_index = start_index + len(row.answer_sentence)\n",
    "    return start_index, end_index"
   ]
  },
  {
   "cell_type": "code",
   "execution_count": 15,
   "id": "cefb82be-cf45-454d-8ff5-025154d3f3aa",
   "metadata": {},
   "outputs": [
    {
     "name": "stdout",
     "output_type": "stream",
     "text": [
      "První buzolu sestrojil český vynálezce Josef Ressel.\n",
      "První buzolu sestrojil český vynálezce Josef Ressel.\n"
     ]
    }
   ],
   "source": [
    "row = merged.iloc[2]\n",
    "answer_span = get_answer_sentence_span(row)\n",
    "answer_span\n",
    "print(row.context[answer_span[0]:answer_span[1]])\n",
    "print(row.answer_sentence)"
   ]
  },
  {
   "cell_type": "code",
   "execution_count": 56,
   "id": "ed78a168-4a6b-4552-9f24-5732600c5f69",
   "metadata": {
    "tags": []
   },
   "outputs": [],
   "source": [
    "merged[\"answer_sentence_span\"] = merged.apply(get_answer_sentence_span, axis=1)"
   ]
  },
  {
   "cell_type": "code",
   "execution_count": 80,
   "id": "ef396be0-5dae-4c28-9a17-927a7d8028c6",
   "metadata": {},
   "outputs": [
    {
     "data": {
      "text/html": [
       "<div>\n",
       "<style scoped>\n",
       "    .dataframe tbody tr th:only-of-type {\n",
       "        vertical-align: middle;\n",
       "    }\n",
       "\n",
       "    .dataframe tbody tr th {\n",
       "        vertical-align: top;\n",
       "    }\n",
       "\n",
       "    .dataframe thead th {\n",
       "        text-align: right;\n",
       "    }\n",
       "</style>\n",
       "<table border=\"1\" class=\"dataframe\">\n",
       "  <thead>\n",
       "    <tr style=\"text-align: right;\">\n",
       "      <th></th>\n",
       "      <th>answers</th>\n",
       "      <th>context</th>\n",
       "      <th>id</th>\n",
       "      <th>title</th>\n",
       "      <th>question</th>\n",
       "      <th>answer_sentence</th>\n",
       "      <th>answer_sentence_span</th>\n",
       "    </tr>\n",
       "  </thead>\n",
       "  <tbody>\n",
       "    <tr>\n",
       "      <th>0</th>\n",
       "      <td>{'answer_start': [12], 'text': ['levostranný']}</td>\n",
       "      <td>Dřevnice je levostranný přítok řeky Moravy ve ...</td>\n",
       "      <td>12242</td>\n",
       "      <td>Jaký přítok je Dřevnice?</td>\n",
       "      <td>Jaký přítok je Dřevnice?</td>\n",
       "      <td>Dřevnice je levostranný přítok řeky Moravy ve ...</td>\n",
       "      <td>(0, 61)</td>\n",
       "    </tr>\n",
       "    <tr>\n",
       "      <th>1</th>\n",
       "      <td>{'answer_start': [0], 'text': 've Foxrocku'}</td>\n",
       "      <td>Samuel Barclay Beckett [Bekit] (13. dubna 1906...</td>\n",
       "      <td>2490</td>\n",
       "      <td>Kde se narodil Samuel Beckett?</td>\n",
       "      <td>Kde se narodil Samuel Beckett?</td>\n",
       "      <td>Samuel Barclay Beckett [Bekit] (13. dubna 1906...</td>\n",
       "      <td>(0, 130)</td>\n",
       "    </tr>\n",
       "    <tr>\n",
       "      <th>2</th>\n",
       "      <td>{'answer_start': [216], 'text': ['Josef Ressel']}</td>\n",
       "      <td>Buzola (také busola) je jednoduchý přístroj pr...</td>\n",
       "      <td>5571</td>\n",
       "      <td>Který český vynálezce sestrojil první buzolu?</td>\n",
       "      <td>Který český vynálezce sestrojil první buzolu?</td>\n",
       "      <td>První buzolu sestrojil český vynálezce Josef R...</td>\n",
       "      <td>(177, 229)</td>\n",
       "    </tr>\n",
       "    <tr>\n",
       "      <th>3</th>\n",
       "      <td>{'answer_start': [2084], 'text': ['1869']}</td>\n",
       "      <td>Deoxyribonukleová kyselina, běžně označovaná D...</td>\n",
       "      <td>7325</td>\n",
       "      <td>Ve kterém roce byla popsána deoxyribonukleová ...</td>\n",
       "      <td>Ve kterém roce byla popsána deoxyribonukleová ...</td>\n",
       "      <td>Deoxyribonukleová kyselina byla popsána roku 1...</td>\n",
       "      <td>(2039, 2173)</td>\n",
       "    </tr>\n",
       "    <tr>\n",
       "      <th>4</th>\n",
       "      <td>{'answer_start': [168], 'text': ['strojové ins...</td>\n",
       "      <td>Centrální procesorová jednotka (zkratka CPU, a...</td>\n",
       "      <td>3770</td>\n",
       "      <td>Co vykonává procesor?</td>\n",
       "      <td>Co vykonává procesor?</td>\n",
       "      <td>Centrální procesorová jednotka (zkratka CPU, a...</td>\n",
       "      <td>(0, 263)</td>\n",
       "    </tr>\n",
       "    <tr>\n",
       "      <th>...</th>\n",
       "      <td>...</td>\n",
       "      <td>...</td>\n",
       "      <td>...</td>\n",
       "      <td>...</td>\n",
       "      <td>...</td>\n",
       "      <td>...</td>\n",
       "      <td>...</td>\n",
       "    </tr>\n",
       "    <tr>\n",
       "      <th>2484</th>\n",
       "      <td>{'answer_start': [1137], 'text': ['na počátku ...</td>\n",
       "      <td>Gainax (japonsky ガ, Gainakkusu) je japonské an...</td>\n",
       "      <td>4817</td>\n",
       "      <td>Kdy bylo založeno studio Gainax?</td>\n",
       "      <td>Kdy bylo založeno studio Gainax?</td>\n",
       "      <td>Studio Gainax bylo založeno na počátku 80. let...</td>\n",
       "      <td>(1109, 1278)</td>\n",
       "    </tr>\n",
       "    <tr>\n",
       "      <th>2485</th>\n",
       "      <td>{'answer_start': [830], 'text': ['Titan je šed...</td>\n",
       "      <td>Titan (chemická značka Ti, latinsky Titanium) ...</td>\n",
       "      <td>11707</td>\n",
       "      <td>Je titan lehký kov?</td>\n",
       "      <td>Je titan lehký kov?</td>\n",
       "      <td>Titan je šedý až stříbřitě bílý, lehký a tvrdý...</td>\n",
       "      <td>(830, 881)</td>\n",
       "    </tr>\n",
       "    <tr>\n",
       "      <th>2486</th>\n",
       "      <td>{'answer_start': [17], 'text': ['10. března 19...</td>\n",
       "      <td>Eva Herzigová (* 10. března 1973 Litvínov) je ...</td>\n",
       "      <td>5771</td>\n",
       "      <td>Kdy se narodila Eva Herzigová?</td>\n",
       "      <td>Kdy se narodila Eva Herzigová?</td>\n",
       "      <td>Eva Herzigová (* 10. března 1973 Litvínov) je ...</td>\n",
       "      <td>(0, 75)</td>\n",
       "    </tr>\n",
       "    <tr>\n",
       "      <th>2487</th>\n",
       "      <td>{'answer_start': [58], 'text': ['Vladimír Štan...</td>\n",
       "      <td>Michal David (* 14. července 1960 Praha), vlas...</td>\n",
       "      <td>10738</td>\n",
       "      <td>Jak se vlastním jménem jmenuje Michal David?</td>\n",
       "      <td>Jak se vlastním jménem jmenuje Michal David?</td>\n",
       "      <td>Michal David (* 14. července 1960 Praha), vlas...</td>\n",
       "      <td>(0, 129)</td>\n",
       "    </tr>\n",
       "    <tr>\n",
       "      <th>2488</th>\n",
       "      <td>{'answer_start': [180], 'text': ['královna Sem...</td>\n",
       "      <td>Visuté zahrady Semiramidiny (také označované j...</td>\n",
       "      <td>5051</td>\n",
       "      <td>Pro kterou královnu byli vybudovány dle legend...</td>\n",
       "      <td>Pro kterou královnu byli vybudovány dle legend...</td>\n",
       "      <td>Postavit je nechala dle legendy královna Semir...</td>\n",
       "      <td>(148, 282)</td>\n",
       "    </tr>\n",
       "  </tbody>\n",
       "</table>\n",
       "<p>2489 rows × 7 columns</p>\n",
       "</div>"
      ],
      "text/plain": [
       "                                                answers  \\\n",
       "0       {'answer_start': [12], 'text': ['levostranný']}   \n",
       "1          {'answer_start': [0], 'text': 've Foxrocku'}   \n",
       "2     {'answer_start': [216], 'text': ['Josef Ressel']}   \n",
       "3            {'answer_start': [2084], 'text': ['1869']}   \n",
       "4     {'answer_start': [168], 'text': ['strojové ins...   \n",
       "...                                                 ...   \n",
       "2484  {'answer_start': [1137], 'text': ['na počátku ...   \n",
       "2485  {'answer_start': [830], 'text': ['Titan je šed...   \n",
       "2486  {'answer_start': [17], 'text': ['10. března 19...   \n",
       "2487  {'answer_start': [58], 'text': ['Vladimír Štan...   \n",
       "2488  {'answer_start': [180], 'text': ['královna Sem...   \n",
       "\n",
       "                                                context     id  \\\n",
       "0     Dřevnice je levostranný přítok řeky Moravy ve ...  12242   \n",
       "1     Samuel Barclay Beckett [Bekit] (13. dubna 1906...   2490   \n",
       "2     Buzola (také busola) je jednoduchý přístroj pr...   5571   \n",
       "3     Deoxyribonukleová kyselina, běžně označovaná D...   7325   \n",
       "4     Centrální procesorová jednotka (zkratka CPU, a...   3770   \n",
       "...                                                 ...    ...   \n",
       "2484  Gainax (japonsky ガ, Gainakkusu) je japonské an...   4817   \n",
       "2485  Titan (chemická značka Ti, latinsky Titanium) ...  11707   \n",
       "2486  Eva Herzigová (* 10. března 1973 Litvínov) je ...   5771   \n",
       "2487  Michal David (* 14. července 1960 Praha), vlas...  10738   \n",
       "2488  Visuté zahrady Semiramidiny (také označované j...   5051   \n",
       "\n",
       "                                                  title  \\\n",
       "0                              Jaký přítok je Dřevnice?   \n",
       "1                        Kde se narodil Samuel Beckett?   \n",
       "2         Který český vynálezce sestrojil první buzolu?   \n",
       "3     Ve kterém roce byla popsána deoxyribonukleová ...   \n",
       "4                                 Co vykonává procesor?   \n",
       "...                                                 ...   \n",
       "2484                   Kdy bylo založeno studio Gainax?   \n",
       "2485                                Je titan lehký kov?   \n",
       "2486                     Kdy se narodila Eva Herzigová?   \n",
       "2487       Jak se vlastním jménem jmenuje Michal David?   \n",
       "2488  Pro kterou královnu byli vybudovány dle legend...   \n",
       "\n",
       "                                               question  \\\n",
       "0                              Jaký přítok je Dřevnice?   \n",
       "1                        Kde se narodil Samuel Beckett?   \n",
       "2         Který český vynálezce sestrojil první buzolu?   \n",
       "3     Ve kterém roce byla popsána deoxyribonukleová ...   \n",
       "4                                 Co vykonává procesor?   \n",
       "...                                                 ...   \n",
       "2484                   Kdy bylo založeno studio Gainax?   \n",
       "2485                                Je titan lehký kov?   \n",
       "2486                     Kdy se narodila Eva Herzigová?   \n",
       "2487       Jak se vlastním jménem jmenuje Michal David?   \n",
       "2488  Pro kterou královnu byli vybudovány dle legend...   \n",
       "\n",
       "                                        answer_sentence answer_sentence_span  \n",
       "0     Dřevnice je levostranný přítok řeky Moravy ve ...              (0, 61)  \n",
       "1     Samuel Barclay Beckett [Bekit] (13. dubna 1906...             (0, 130)  \n",
       "2     První buzolu sestrojil český vynálezce Josef R...           (177, 229)  \n",
       "3     Deoxyribonukleová kyselina byla popsána roku 1...         (2039, 2173)  \n",
       "4     Centrální procesorová jednotka (zkratka CPU, a...             (0, 263)  \n",
       "...                                                 ...                  ...  \n",
       "2484  Studio Gainax bylo založeno na počátku 80. let...         (1109, 1278)  \n",
       "2485  Titan je šedý až stříbřitě bílý, lehký a tvrdý...           (830, 881)  \n",
       "2486  Eva Herzigová (* 10. března 1973 Litvínov) je ...              (0, 75)  \n",
       "2487  Michal David (* 14. července 1960 Praha), vlas...             (0, 129)  \n",
       "2488  Postavit je nechala dle legendy královna Semir...           (148, 282)  \n",
       "\n",
       "[2489 rows x 7 columns]"
      ]
     },
     "execution_count": 80,
     "metadata": {},
     "output_type": "execute_result"
    }
   ],
   "source": [
    "merged"
   ]
  },
  {
   "cell_type": "code",
   "execution_count": 58,
   "id": "12223152-b211-4b93-a13c-545448bb9ccb",
   "metadata": {},
   "outputs": [],
   "source": [
    "merged.to_json(\"czech_test_answer_sentence.json\")"
   ]
  },
  {
   "cell_type": "markdown",
   "id": "14c3adf3-3296-40e2-ba7f-2e2e7b7984e7",
   "metadata": {},
   "source": [
    "#### Tokenize row in a similar way to training tokenization"
   ]
  },
  {
   "cell_type": "code",
   "execution_count": 2,
   "id": "58d7b58a-f08a-4b9e-a96c-3ff1b281f9ad",
   "metadata": {},
   "outputs": [],
   "source": [
    "def tokenize_row(row):\n",
    "    tokenized_row = tokenizer(\n",
    "        row[\"question\"],\n",
    "        row[\"context\"],\n",
    "        truncation=\"only_second\",\n",
    "        max_length=max_length,\n",
    "        stride=doc_stride,\n",
    "        return_overflowing_tokens=True,\n",
    "        return_offsets_mapping=True,\n",
    "        padding=\"max_length\",\n",
    "    )\n",
    "    sample_map = tokenized_row.pop(\"overflow_to_sample_mapping\")\n",
    "    tokenized_row[\"example_id\"] = []\n",
    "    for i in range(len(tokenized_row[\"input_ids\"])):\n",
    "        sample_idx = sample_map[i]\n",
    "        tokenized_row[\"example_id\"].append(row[\"id\"][sample_idx])\n",
    "        offset = tokenized_row[\"offset_mapping\"][i]\n",
    "        for k, v in enumerate(tokenized_row[\"offset_mapping\"][i]):\n",
    "            if tokenized_row.sequence_ids(i)[k] == 1:\n",
    "                tokenized_row[\"offset_mapping\"][i][k] = v\n",
    "            else:\n",
    "                tokenized_row[\"offset_mapping\"][i][k] = None\n",
    "    return tokenized_row"
   ]
  },
  {
   "cell_type": "code",
   "execution_count": 76,
   "id": "b068bea1-84c1-4ec5-9928-3045bde801d4",
   "metadata": {},
   "outputs": [
    {
     "data": {
      "text/plain": [
       "Dataset({\n",
       "    features: ['answers', 'context', 'id', 'question', 'title'],\n",
       "    num_rows: 2489\n",
       "})"
      ]
     },
     "execution_count": 76,
     "metadata": {},
     "output_type": "execute_result"
    }
   ],
   "source": [
    "dataset_test = Dataset.from_pandas(test_df)\n",
    "dataset_test = dataset_test.remove_columns([\"__index_level_0__\"])\n",
    "dataset_test"
   ]
  },
  {
   "cell_type": "code",
   "execution_count": null,
   "id": "8298c9b8-e36f-4134-8677-7e2f9f1b89c9",
   "metadata": {
    "tags": []
   },
   "outputs": [],
   "source": [
    "tokenized_test =  dataset_test.map(tokenize_row, remove_columns=dataset_test.column_names)"
   ]
  },
  {
   "cell_type": "code",
   "execution_count": 11,
   "id": "9df7b281-cb4d-41f1-8194-bc051129766b",
   "metadata": {},
   "outputs": [
    {
     "data": {
      "text/plain": [
       "Dataset({\n",
       "    features: ['input_ids', 'attention_mask', 'offset_mapping', 'overflow_to_sample_mapping', 'example_id'],\n",
       "    num_rows: 2489\n",
       "})"
      ]
     },
     "execution_count": 11,
     "metadata": {},
     "output_type": "execute_result"
    }
   ],
   "source": [
    "tokenized_test"
   ]
  },
  {
   "cell_type": "code",
   "execution_count": 13,
   "id": "b9b27060-cd11-4b2a-88f4-a8b61f7634db",
   "metadata": {},
   "outputs": [
    {
     "data": {
      "text/plain": [
       "{'input_ids': Sequence(feature=Sequence(feature=Value(dtype='int32', id=None), length=-1, id=None), length=-1, id=None),\n",
       " 'attention_mask': Sequence(feature=Sequence(feature=Value(dtype='int8', id=None), length=-1, id=None), length=-1, id=None),\n",
       " 'offset_mapping': Sequence(feature=Sequence(feature=Sequence(feature=Value(dtype='int64', id=None), length=-1, id=None), length=-1, id=None), length=-1, id=None),\n",
       " 'overflow_to_sample_mapping': Sequence(feature=Value(dtype='int64', id=None), length=-1, id=None),\n",
       " 'example_id': Sequence(feature=Value(dtype='int64', id=None), length=-1, id=None)}"
      ]
     },
     "execution_count": 13,
     "metadata": {},
     "output_type": "execute_result"
    }
   ],
   "source": [
    "tokenized_test.features"
   ]
  },
  {
   "cell_type": "code",
   "execution_count": 87,
   "id": "45772920-bafb-46e4-81a8-648b75a3e761",
   "metadata": {},
   "outputs": [
    {
     "data": {
      "text/plain": [
       "dict_keys(['input_ids', 'attention_mask', 'offset_mapping', 'overflow_to_sample_mapping', 'example_id'])"
      ]
     },
     "execution_count": 87,
     "metadata": {},
     "output_type": "execute_result"
    }
   ],
   "source": [
    "tokenized_test[0].keys()"
   ]
  },
  {
   "cell_type": "code",
   "execution_count": 95,
   "id": "c7c08f5e-37db-4da6-83c2-8519a851cc71",
   "metadata": {},
   "outputs": [],
   "source": [
    "from transformers import default_data_collator\n",
    "data_collator = default_data_collator"
   ]
  },
  {
   "cell_type": "markdown",
   "id": "146eae53-1f32-4086-816f-72980a84bd32",
   "metadata": {},
   "source": [
    "#### Using Huggingface's TrainerAPI get raw predictions for each row in dataset"
   ]
  },
  {
   "cell_type": "code",
   "execution_count": 35,
   "id": "6204aeee-5e2f-429e-a007-b4f6c590f348",
   "metadata": {
    "tags": []
   },
   "outputs": [
    {
     "name": "stderr",
     "output_type": "stream",
     "text": [
      "No `TrainingArguments` passed, using `output_dir=tmp_trainer`.\n",
      "PyTorch: setting up devices\n",
      "The default value for the training argument `--report_to` will change in v5 (from all installed integrations to none). In v5, you will need to use `--report_to all` to get the same behavior as now. You should start updating your code and make this info disappear :-).\n"
     ]
    }
   ],
   "source": [
    "trainer = Trainer(\n",
    "    model,\n",
    "    data_collator=data_collator,\n",
    "    tokenizer=tokenizer,\n",
    ")"
   ]
  },
  {
   "cell_type": "code",
   "execution_count": 36,
   "id": "fcb96a1d-f29e-42eb-a9d4-a34c02a32206",
   "metadata": {
    "tags": []
   },
   "outputs": [
    {
     "name": "stderr",
     "output_type": "stream",
     "text": [
      "The following columns in the test set don't have a corresponding argument in `XLMRobertaForQuestionAnswering.forward` and have been ignored: offset_mapping, example_id. If offset_mapping, example_id are not expected by `XLMRobertaForQuestionAnswering.forward`,  you can safely ignore this message.\n",
      "***** Running Prediction *****\n",
      "  Num examples = 35661\n",
      "  Batch size = 8\n"
     ]
    },
    {
     "data": {
      "text/html": [
       "\n",
       "    <div>\n",
       "      \n",
       "      <progress value='4458' max='4458' style='width:300px; height:20px; vertical-align: middle;'></progress>\n",
       "      [4458/4458 1:29:32]\n",
       "    </div>\n",
       "    "
      ],
      "text/plain": [
       "<IPython.core.display.HTML object>"
      ]
     },
     "metadata": {},
     "output_type": "display_data"
    }
   ],
   "source": [
    "preds = trainer.predict(tokenized_test)"
   ]
  },
  {
   "cell_type": "code",
   "execution_count": 43,
   "id": "fd770e37-e8b0-4b08-ad26-0dc78e9b8354",
   "metadata": {},
   "outputs": [
    {
     "data": {
      "text/plain": [
       "PredictionOutput(predictions=(array([[  0.44915432, -12.860064  , -13.58446   , ..., -12.721458  ,\n",
       "        -13.542861  ,  -8.7459    ],\n",
       "       [  6.869243  , -12.151521  , -12.601073  , ..., -11.126399  ,\n",
       "        -12.660603  ,  -9.913016  ],\n",
       "       [  6.720505  , -12.19447   , -12.7076025 , ..., -12.286344  ,\n",
       "        -12.286344  , -12.286344  ],\n",
       "       ...,\n",
       "       [  6.298307  , -11.800813  , -12.75388   , ..., -13.617656  ,\n",
       "        -13.32124   ,  -9.910314  ],\n",
       "       [  6.5893917 , -11.885697  , -12.509168  , ..., -13.526317  ,\n",
       "        -13.197158  , -10.013032  ],\n",
       "       [  6.6067247 , -11.875133  , -12.425851  , ..., -13.412604  ,\n",
       "        -13.412604  , -13.412604  ]], dtype=float32), array([[ -0.8379871, -13.17233  , -12.33597  , ..., -14.212399 ,\n",
       "        -13.609648 ,  -8.457344 ],\n",
       "       [  6.450125 , -13.804589 , -13.512745 , ..., -14.266769 ,\n",
       "        -14.2044115,  -9.191486 ],\n",
       "       [  6.32526  , -13.813894 , -13.527146 , ..., -13.66621  ,\n",
       "        -13.66621  , -13.66621  ],\n",
       "       ...,\n",
       "       [  5.9188733, -13.9846325, -13.619602 , ..., -13.789291 ,\n",
       "        -14.020223 ,  -9.306387 ],\n",
       "       [  6.2492137, -13.490759 , -13.285101 , ..., -13.539685 ,\n",
       "        -14.061077 ,  -9.279828 ],\n",
       "       [  6.2563477, -13.478588 , -13.308683 , ..., -12.318142 ,\n",
       "        -12.318142 , -12.318142 ]], dtype=float32)), label_ids=None, metrics={'test_runtime': 5374.0405, 'test_samples_per_second': 6.636, 'test_steps_per_second': 0.83})"
      ]
     },
     "execution_count": 43,
     "metadata": {},
     "output_type": "execute_result"
    }
   ],
   "source": [
    "preds"
   ]
  },
  {
   "cell_type": "code",
   "execution_count": 33,
   "id": "848534a8-388b-40e0-9a12-b816870ae845",
   "metadata": {},
   "outputs": [
    {
     "data": {
      "text/plain": [
       "29713"
      ]
     },
     "execution_count": 33,
     "metadata": {},
     "output_type": "execute_result"
    }
   ],
   "source": [
    "len(preds[0][0])"
   ]
  },
  {
   "cell_type": "code",
   "execution_count": 80,
   "id": "0dbb28c1-1b04-4e69-be72-bf3c8ec514a9",
   "metadata": {},
   "outputs": [],
   "source": [
    "from collections import OrderedDict, defaultdict\n",
    "from tqdm import tqdm"
   ]
  },
  {
   "cell_type": "markdown",
   "id": "b19898c9-3a0b-40ba-bbdf-a87cc7129f22",
   "metadata": {},
   "source": [
    "#### Preprocess raw predictions from models and create top 20 answer predictions"
   ]
  },
  {
   "cell_type": "code",
   "execution_count": 40,
   "id": "6ae7c22c-11e1-4fe7-ab09-fbb7997be85e",
   "metadata": {},
   "outputs": [],
   "source": [
    "def preprocess_predictions(dataset, tokenized_dataset, predictions):\n",
    "    start_logits, end_logits = predictions\n",
    "    predictions = OrderedDict()\n",
    "    example_id_to_index = {k: i for i, k in enumerate(dataset[\"id\"])}\n",
    "\n",
    "    features_per_example = defaultdict(list)\n",
    "    for i, feature in enumerate(tqdm(tokenized_dataset)):\n",
    "        features_per_example[example_id_to_index[feature[\"example_id\"]]].append(i)\n",
    "    #all of the questions   \n",
    "    for example_index, example in enumerate(tqdm(dataset)):\n",
    "        valid_answers = []\n",
    "        #current question\n",
    "        for input_index in features_per_example[example_index]:\n",
    "            current_start_logits = start_logits[input_index]\n",
    "            current_end_logits = end_logits[input_index]\n",
    "            offset_mapping = tokenized_dataset[input_index][\"offset_mapping\"]\n",
    "            start_indexes = np.argsort(current_start_logits)[-1 : -n_best_answers - 1 : -1].tolist()\n",
    "            end_indexes = np.argsort(current_end_logits)[-1 : -n_best_answers - 1 : -1].tolist()\n",
    "            for start_index in start_indexes:\n",
    "                for end_index in end_indexes:\n",
    "                    if  start_index >= len(offset_mapping) \\\n",
    "                        or end_index >= len(offset_mapping) \\\n",
    "                        or offset_mapping[start_index] is None \\\n",
    "                        or offset_mapping[end_index] is None:\n",
    "                        continue\n",
    "                    if end_index < start_index:\n",
    "                        continue\n",
    "                    if start_index <= end_index:\n",
    "                        start_char = offset_mapping[start_index][0]\n",
    "                        end_char = offset_mapping[end_index][1]\n",
    "                        valid_answers.append({\"score\": current_start_logits[start_index] + current_end_logits[end_index],\n",
    "                                              \"text\": example[\"context\"][start_char: end_char],\n",
    "                                              \"text_start\": start_char})\n",
    "                                            \n",
    "        if len(valid_answers) > 0:\n",
    "            best_answers = sorted(valid_answers, key=lambda x: x[\"score\"], reverse=True)[:n_best_answers]\n",
    "        else:\n",
    "            best_answer = {\"text\": \"\", \"score\": 0.0}\n",
    "        predictions[example[\"id\"]] = best_answers\n",
    "        \n",
    "    return predictions"
   ]
  },
  {
   "cell_type": "code",
   "execution_count": 41,
   "id": "bc73124d-8a5f-4298-af75-6737ae94001b",
   "metadata": {
    "tags": []
   },
   "outputs": [
    {
     "name": "stderr",
     "output_type": "stream",
     "text": [
      "100%|██████████████████████████████████████████████████████████████████████████████████████████████████████████████████████████████████████████████████████████████████████████████████████████████| 35661/35661 [00:49<00:00, 715.78it/s]\n",
      "100%|█████████████████████████████████████████████████████████████████████████████████████████████████████████████████████████████████████████████████████████████████████████████████████████████████| 2489/2489 [01:06<00:00, 37.50it/s]\n"
     ]
    }
   ],
   "source": [
    "prepd_predictions = preprocess_predictions(dataset_test, tokenized_test, preds.predictions)"
   ]
  },
  {
   "cell_type": "code",
   "execution_count": null,
   "id": "8a4d8ef1-742a-496c-81b0-329ed1f12524",
   "metadata": {},
   "outputs": [],
   "source": [
    "prepd_predictions = dict(prepd_predictions)"
   ]
  },
  {
   "cell_type": "code",
   "execution_count": null,
   "id": "ba45e9ca-f254-456e-9ac0-080fe7540b00",
   "metadata": {},
   "outputs": [],
   "source": [
    "with open('model_predictions\\\\electra_czech_predictions.json', 'wb') as fp:\n",
    "    pickle.dump(prepd_predictions, fp)"
   ]
  }
 ],
 "metadata": {
  "kernelspec": {
   "display_name": "Python 3 (ipykernel)",
   "language": "python",
   "name": "python3"
  },
  "language_info": {
   "codemirror_mode": {
    "name": "ipython",
    "version": 3
   },
   "file_extension": ".py",
   "mimetype": "text/x-python",
   "name": "python",
   "nbconvert_exporter": "python",
   "pygments_lexer": "ipython3",
   "version": "3.8.0"
  }
 },
 "nbformat": 4,
 "nbformat_minor": 5
}
