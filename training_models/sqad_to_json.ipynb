{
 "cells": [
  {
   "cell_type": "markdown",
   "id": "b92dbe24-d246-4472-8cbb-3dcc299955f2",
   "metadata": {},
   "source": [
    "# Imports"
   ]
  },
  {
   "cell_type": "code",
   "execution_count": 145,
   "id": "b22a8965-2dd9-4d13-8de1-2041d3910ca1",
   "metadata": {},
   "outputs": [],
   "source": [
    "import pandas as pd\n",
    "import numpy as np\n",
    "from tqdm import tqdm"
   ]
  },
  {
   "cell_type": "markdown",
   "id": "43140044-ff4a-4135-9fcc-b27522c797a7",
   "metadata": {},
   "source": [
    "# Read the default SQAD data"
   ]
  },
  {
   "cell_type": "code",
   "execution_count": 146,
   "id": "1553b9cf-6b4f-41ad-8c28-3ccd9cf436a3",
   "metadata": {},
   "outputs": [],
   "source": [
    "df = pd.read_csv(\"sqad_dataframe.csv\")\n",
    "df[\"question\"] = df[\"question\"].astype(\"string\")\n",
    "df[\"text\"] = df[\"text\"].astype(\"string\")\n",
    "df[\"answer\"] = df[\"answer\"].astype(\"string\")\n",
    "df[\"answer_sentence\"] = df[\"answer_sentence\"].astype(\"string\")"
   ]
  },
  {
   "cell_type": "code",
   "execution_count": 147,
   "id": "07d7fc40-dc48-4a82-84a2-093612958e15",
   "metadata": {},
   "outputs": [
    {
     "data": {
      "text/plain": [
       "question_number     int64\n",
       "question           string\n",
       "text               string\n",
       "answer             string\n",
       "answer_sentence    string\n",
       "dtype: object"
      ]
     },
     "execution_count": 147,
     "metadata": {},
     "output_type": "execute_result"
    }
   ],
   "source": [
    "df.rename(columns = {\"Unnamed: 0\" :\"question_number\"}, inplace = True)\n",
    "df.dtypes"
   ]
  },
  {
   "cell_type": "markdown",
   "id": "4c6a43cb-fdaf-4c80-8b94-ba8f2c2daefc",
   "metadata": {},
   "source": [
    "# Preprocess data"
   ]
  },
  {
   "cell_type": "markdown",
   "id": "50a87834-2030-422c-aa18-bdf7f67ae8e7",
   "metadata": {},
   "source": [
    "## Split text into array of sentences"
   ]
  },
  {
   "cell_type": "code",
   "execution_count": 148,
   "id": "cc6bab45-7c5b-4018-8b42-4339ea3e73f7",
   "metadata": {
    "tags": []
   },
   "outputs": [
    {
     "data": {
      "text/html": [
       "<div>\n",
       "<style scoped>\n",
       "    .dataframe tbody tr th:only-of-type {\n",
       "        vertical-align: middle;\n",
       "    }\n",
       "\n",
       "    .dataframe tbody tr th {\n",
       "        vertical-align: top;\n",
       "    }\n",
       "\n",
       "    .dataframe thead th {\n",
       "        text-align: right;\n",
       "    }\n",
       "</style>\n",
       "<table border=\"1\" class=\"dataframe\">\n",
       "  <thead>\n",
       "    <tr style=\"text-align: right;\">\n",
       "      <th></th>\n",
       "      <th>question_number</th>\n",
       "      <th>question</th>\n",
       "      <th>text</th>\n",
       "      <th>answer</th>\n",
       "      <th>answer_sentence</th>\n",
       "      <th>text_sentences</th>\n",
       "    </tr>\n",
       "  </thead>\n",
       "  <tbody>\n",
       "    <tr>\n",
       "      <th>0</th>\n",
       "      <td>1</td>\n",
       "      <td>Kdo je autorem novely Létající jaguár?</td>\n",
       "      <td>Létající jaguár je novela spisovatele Josefa F...</td>\n",
       "      <td>Josefa Formánka</td>\n",
       "      <td>Létající jaguár je novela spisovatele Josefa F...</td>\n",
       "      <td>[Létající jaguár je novela spisovatele Josefa ...</td>\n",
       "    </tr>\n",
       "    <tr>\n",
       "      <th>1</th>\n",
       "      <td>2</td>\n",
       "      <td>Jak se nazývá věda zabývající se houbami?</td>\n",
       "      <td>Houby (Fungi, dříve Mycophyta) představují vel...</td>\n",
       "      <td>mykologie</td>\n",
       "      <td>Věda zabývající se houbami se nazývá mykologie.</td>\n",
       "      <td>[Houby (Fungi, dříve Mycophyta) představují ve...</td>\n",
       "    </tr>\n",
       "    <tr>\n",
       "      <th>2</th>\n",
       "      <td>3</td>\n",
       "      <td>Jak se nazývá strom, jehož zrna jsou využívána...</td>\n",
       "      <td>Čokoláda je obvyklá součást nejrůznějších druh...</td>\n",
       "      <td>Theobroma cacao</td>\n",
       "      <td>Čokoláda se vyrábí z kvašených, pražených a ml...</td>\n",
       "      <td>[Čokoláda je obvyklá součást nejrůznějších dru...</td>\n",
       "    </tr>\n",
       "    <tr>\n",
       "      <th>3</th>\n",
       "      <td>4</td>\n",
       "      <td>Kdo se stal prvním prezidentem České republiky?</td>\n",
       "      <td>Václav Havel (5. října 1936 Praha – 18. prosin...</td>\n",
       "      <td>Václav Havel</td>\n",
       "      <td>Václav Havel (5. října 1936 Praha – 18. prosin...</td>\n",
       "      <td>[Václav Havel (5. října 1936 Praha – 18. prosi...</td>\n",
       "    </tr>\n",
       "    <tr>\n",
       "      <th>4</th>\n",
       "      <td>5</td>\n",
       "      <td>Do jaké čeledi rostlin patří pampeliška?</td>\n",
       "      <td>Pampeliška (Taraxacum), či také smetánka, je z...</td>\n",
       "      <td>hvězdnicovité</td>\n",
       "      <td>Pampeliška (Taraxacum), či také smetánka, je z...</td>\n",
       "      <td>[Pampeliška (Taraxacum), či také smetánka, je ...</td>\n",
       "    </tr>\n",
       "  </tbody>\n",
       "</table>\n",
       "</div>"
      ],
      "text/plain": [
       "   question_number                                           question  \\\n",
       "0                1             Kdo je autorem novely Létající jaguár?   \n",
       "1                2          Jak se nazývá věda zabývající se houbami?   \n",
       "2                3  Jak se nazývá strom, jehož zrna jsou využívána...   \n",
       "3                4    Kdo se stal prvním prezidentem České republiky?   \n",
       "4                5           Do jaké čeledi rostlin patří pampeliška?   \n",
       "\n",
       "                                                text           answer  \\\n",
       "0  Létající jaguár je novela spisovatele Josefa F...  Josefa Formánka   \n",
       "1  Houby (Fungi, dříve Mycophyta) představují vel...        mykologie   \n",
       "2  Čokoláda je obvyklá součást nejrůznějších druh...  Theobroma cacao   \n",
       "3  Václav Havel (5. října 1936 Praha – 18. prosin...     Václav Havel   \n",
       "4  Pampeliška (Taraxacum), či také smetánka, je z...    hvězdnicovité   \n",
       "\n",
       "                                     answer_sentence  \\\n",
       "0  Létající jaguár je novela spisovatele Josefa F...   \n",
       "1    Věda zabývající se houbami se nazývá mykologie.   \n",
       "2  Čokoláda se vyrábí z kvašených, pražených a ml...   \n",
       "3  Václav Havel (5. října 1936 Praha – 18. prosin...   \n",
       "4  Pampeliška (Taraxacum), či také smetánka, je z...   \n",
       "\n",
       "                                      text_sentences  \n",
       "0  [Létající jaguár je novela spisovatele Josefa ...  \n",
       "1  [Houby (Fungi, dříve Mycophyta) představují ve...  \n",
       "2  [Čokoláda je obvyklá součást nejrůznějších dru...  \n",
       "3  [Václav Havel (5. října 1936 Praha – 18. prosi...  \n",
       "4  [Pampeliška (Taraxacum), či také smetánka, je ...  "
      ]
     },
     "execution_count": 148,
     "metadata": {},
     "output_type": "execute_result"
    }
   ],
   "source": [
    "df[\"text_sentences\"] = df.text.map(lambda x: x.split(\"\\n\"))\n",
    "df[\"text\"] = df[\"text\"].str.replace('\\n' , ' ')\n",
    "df[\"question\"] = df[\"question\"].str.replace('\\n' , ' ')\n",
    "df[\"answer\"] = df[\"answer\"].str.replace('\\n' , ' ')\n",
    "df[\"answer_sentence\"] = df[\"answer_sentence\"].str.replace('\\n' , ' ')\n",
    "df.head()"
   ]
  },
  {
   "cell_type": "markdown",
   "id": "1ce07387-215d-4aed-a1d8-a4a4a441411b",
   "metadata": {},
   "source": [
    "### Random exaple "
   ]
  },
  {
   "cell_type": "code",
   "execution_count": 156,
   "id": "0939456a-e7af-4ada-bea3-ecc07924c093",
   "metadata": {},
   "outputs": [
    {
     "name": "stdout",
     "output_type": "stream",
     "text": [
      "QUESTION: Kterého dne zemřel Alfons Mucha?\n",
      "\n",
      "ANSWER: 14. července 1939\n",
      "\n",
      "TEXT: Alfons Maria Mucha (24. července 1860 Ivančice - 14. července 1939 Praha) byl český malíř a designér období secese, které je v angličtině a francouzštině známo pod francouzským označením Art nouveau (nové umění). Alfons Mucha byl otcem spisovatele Jiřího Muchy. Stal se známým téměř přes noc díky divadelnímu plakátu Gismonda (1894-1895), který si u něj objednala pařížská herečka Sarah Bernhardtová. Herečka později uzavřela s Muchou smlouvu a on pro ni a Divadlo Renesance v Paříži vytvořil ještě několik dalších plakátů. Jeho životním dílem je cyklus velkoformátových pláten Slovanská epopej, na kterém pracoval osmnáct let. Krom toho se také zasloužil spolu s Jaroslavem Kvapilem a Ladislavem Syllabou o obnovení svobodného zednářství v Československu. Narodil se v Ivančicích v rodině soudního zřízence Ondřeje Muchy a jeho manželky Amálie rozené Malé. Měl dvě vlastní sestry, Annu a Andělu. Studoval na Slovanském gymnáziu v Brně, kde si přivydělával jako chrámový zpěvák v petrovském chlapeckém sboru. Po neúspěchu u přijímacích zkoušek na pražskou Akademii krátce pracoval jako písař u ivančického soudu. V této době připravoval ochotnická divadelní představení, maloval dekorace a plakáty, navrhoval pozvánky. Z roku 1875 pochází Muchova první známá přesně datovaná kresba, jedná se o pastel představující Janu z Arku na hranici. Roku 1879 odchází do Vídně pracovat jako malíř divadelních dekorací do firmy Kautský-Brioschi-Burghardt. Poté odešel do Mikulova, kde maloval portréty místních obyvatel. Roku 1883 byl pozván hrabětem Khuen-Belassim k vytvoření dekorací interiérů zámku Emmahof či Emín nedaleko Hrušovan nad Jevišovkou. V roce 1885 odešel na Akademii výtvarných umění do Mnichova (Akademie der Bildenden Künste München) a o dva roky později do Paříže na Julianovu akademii (Académie Julian), z níž však přešel na Colarossiho akademii (Académie Colarossi). Roku 1892 byl pověřen ilustrovat Scè et épisodes de l'histoire d'Allemagne (Výjevy a epizody z německé historie) od Charlese Seignobose. K osudovému zlomu v jeho kariéře došlo roku 1894, když získal objednávku na plakát pro Sarah Bernhardtovou. Nejslavnější Muchovo období nastalo kolem přelomu 19. a 20. století, kdy pracoval v Paříži. Desátého června 1906 se v kostele sv. Rocha na Strahově oženil s o 23 let mladší Marií Chytilovou (1882-1959, jí bylo 23, jemu 46 let) a odjel do Spojených států, aby si vydělal na realizaci svého velkého snu, Slovanské epopeje. Dostalo se mu tam uvítání jako největšímu dekorativnímu umělci světa, přesto se toužil vrátit do vlasti. Mucha však nebyl pouze grafikem a tvůrcem světoznámých plakátů ve stylu art nouveau. Všestranným nadáním zasahoval do všech uměleckých oborů, sochařstvím počínaje a divadlem konče. Mucha se stal známým jako umělec pracující v oboru užitého umění, kromě reklamních plakátů tvořil i návrhy obalů pro celou řadu spotřebních předmětů, maloval návrhy jídelních menu, kalendářů a dekorativních zástěn, doplňoval knihy svými ilustracemi, např. Otčenáš (Le Pater, 1899), mimo jiné vytvořil grafickou předlohu k první československé poštovní známce a navrhoval i grafickou podobu československých bankovek. Jeho tvorba zahrnuje návrhy interiérů, nádobí, šperků, ale i návrh okna v katedrále sv. Víta (1931, scény z života sv. Cyrila a Metoděje realizovala firma Jan Veselý, od západu třetí okno vlevo) v Praze. Alfons Mucha byl velkým vlastencem a celý život snil o realizaci cyklu velkoformátových obrazů Slovanská epopej, kterým chtěl shrnout dějiny slovanského národa. Cyklus velkých pláten maloval na zámku Zbiroh od roku 1910. Epopej byla dokončena v roce 1928 a Muchův americký mecenáš Charles R. Crane ji věnoval Praze. Dříve byl tento cyklus k vidění na zámku v Moravském Krumlově, nyní je umístěn v Praze ve Veletržním paláci (výstava otevřena v květnu 2012). Alfons Mucha byl také dobrým fotografem, který své snímky využíval jako předlohu při své malířské tvorbě, jeho snímky se tak kompozičně velmi podobají jeho slavným obrazům. Muchova dokumentace z cest z Ruska, z období před Říjnovou revolucí, tvořila důležité podklady právě pro cyklus Slovanská epopej. Když dostal od komisaře pařížské Světové výstavy v roce 1900 za úkol vyzdobit pavilon Bosny a Hercegoviny, vypravil se s fotoaparátem na Balkán a až poté začal malovat obří dekorativní panel (panó), které bylo dominantou vídeňské expozice. Je považován za zakladatele české školy klasického fotografického aktu. Jeho fotografie jsou také součástí sbírky Fotografis, která byla představena na začátku roku 2009 v Praze. Alfons Mucha zemřel v Praze 14. července 1939 po výslechu gestapem na zápal plic. Pochován je na Slavíně na Vyšehradském hřbitově. Výběr z jeho děl a některé jeho osobní předměty jsou vystaveny v Muchově muzeu v Praze. Muchova matka Amálie Malá se narodila 5. srpna 1822 v Budišově u Třebíče v rodině mlynáře Tomáše Malého. Po matce Alžbětě Malé (roz. Ratkowské) měla polské předky. Tato krásná, zbožná, vzdělaná a sečtělá žena se zájmem o výtvarné umění byla vychovatel\n",
      "\n",
      "ANSWER SENTENCE: Alfons Mucha zemřel v Praze 14. července 1939 po výslechu gestapem na zápal plic.\n"
     ]
    }
   ],
   "source": [
    "print(\"QUESTION: \" + df[\"question\"].iloc[123])\n",
    "print(\"\\nANSWER: \" + df[\"answer\"].iloc[123])\n",
    "print(\"\\nTEXT: \" + df[\"text\"].iloc[123][:5000])\n",
    "print(\"\\nANSWER SENTENCE: \" + df[\"answer_sentence\"].iloc[123])\n"
   ]
  },
  {
   "cell_type": "markdown",
   "id": "d2c432c0-ad99-4165-a821-c79f89d5b42e",
   "metadata": {},
   "source": [
    "## Replace YES/NO type answers with whole answer sentence"
   ]
  },
  {
   "cell_type": "code",
   "execution_count": 157,
   "id": "d282dae1-7fc1-4cce-ba10-c57f23bc9573",
   "metadata": {},
   "outputs": [
    {
     "data": {
      "text/plain": [
       "0"
      ]
     },
     "execution_count": 157,
     "metadata": {},
     "output_type": "execute_result"
    }
   ],
   "source": [
    "df_wo_yes_no_answers = df.copy()\n",
    "\n",
    "df_wo_yes_no_answers[\"answer\"] = np.where(df_wo_yes_no_answers[\"answer\"].str.lower().str.contains(\"ano|ne\"),\n",
    "                                          df_wo_yes_no_answers[\"answer_sentence\"], \n",
    "                                          df_wo_yes_no_answers[\"answer\"])\n",
    "\n",
    "df_wo_yes_no_answers[df_wo_yes_no_answers[\"answer\"].isin([\"ano\", \"ne\"])].answer.count()"
   ]
  },
  {
   "cell_type": "markdown",
   "id": "b302621d-aed4-4795-b24a-3b131a065c7c",
   "metadata": {},
   "source": [
    "## Checking if some texts do not contain the answer sentence"
   ]
  },
  {
   "cell_type": "code",
   "execution_count": 158,
   "id": "80d995c1-f997-4886-ab00-d917e5e35c3f",
   "metadata": {
    "tags": []
   },
   "outputs": [
    {
     "name": "stdout",
     "output_type": "stream",
     "text": [
      "It's fine\n"
     ]
    }
   ],
   "source": [
    "df_wo_yes_no_answers[[\"answer\", \"answer_sentence\"]]\n",
    "bad_row = df_wo_yes_no_answers.iloc[0]\n",
    "try:\n",
    "    for row in df_wo_yes_no_answers.iloc:\n",
    "        if row[\"answer_sentence\"] not in row[\"text_sentences\"]:\n",
    "            bad_row = row\n",
    "            raise ValueError()\n",
    "except ValueError:\n",
    "    print(row[\"answer_sentence\"])\n",
    "else:\n",
    "    print(\"It's fine\")"
   ]
  },
  {
   "cell_type": "markdown",
   "id": "1b05cac2-267f-49f4-a442-988ca58d1caa",
   "metadata": {},
   "source": [
    "## Get index of answer_sentence from text_sentences"
   ]
  },
  {
   "cell_type": "code",
   "execution_count": 159,
   "id": "899fb579-791d-4ff7-b1de-ea8738bce92f",
   "metadata": {},
   "outputs": [],
   "source": [
    "def get_sentence_index(row):\n",
    "    sentences = row[\"text_sentences\"]\n",
    "    answer_sentence = row[\"answer_sentence\"]\n",
    "    return sentences.index(answer_sentence)"
   ]
  },
  {
   "cell_type": "markdown",
   "id": "8c6a5f5b-3e8c-45c6-8bee-9a34bba2a01f",
   "metadata": {},
   "source": [
    "#### Test"
   ]
  },
  {
   "cell_type": "code",
   "execution_count": 160,
   "id": "7c77d778-9bbc-4746-aa96-c0f407d55007",
   "metadata": {
    "tags": []
   },
   "outputs": [
    {
     "name": "stdout",
     "output_type": "stream",
     "text": [
      "0\n",
      "Nespoutaný Django (v anglickém originále Django Unchained) je americký western režiséra Quentina Tarantina z roku 2012.\n",
      "0  >>>  Nespoutaný Django (v anglickém originále Django Unchained) je americký western režiséra Quentina Tarantina z roku 2012.\n",
      "1  >>>  Film se odehrává v jižních státech USA a zaměřuje se na Djanga, osvobozeného otroka, který cestuje napříč Spojenými státy v doprovodu doktora Kinga Schultze, nájemného lovce lidí.\n",
      "2  >>>  V hlavních rolích hrají Jamie Foxx, Christoph Waltz, Leonardo DiCaprio, Kerry Washingtonová a Samuel L. Jackson.\n",
      "3  >>>  Snímek získal dva Zlaté glóby v kategoriích Nejlepší herec ve vedlejší roli (Christoph Waltz) a Nejlepší scénář (Quentin Tarantino), kromě toho byl ještě nominován v kategoriích Nejlepší film (drama), Nejlepší režie (Quentin Tarantino) a Nejlepší herec ve vedlejší roli (Leonardo DiCaprio).\n",
      "4  >>>  Získal také dva Oscary v kategoriích Nejlepší herec ve vedlejší roli (Christoph Waltz) a Nejlepší původní scénář (Quentin Tarantino), kromě toho byl také nominován v kategoriích Nejlepší film, Nejlepší kamera (Robert Richardson) a Nejlepší střih zvuku (Wylie Stateman).\n"
     ]
    }
   ],
   "source": [
    "print(get_sentence_index(df_wo_yes_no_answers.iloc[8]))\n",
    "print(df_wo_yes_no_answers.iloc[8][\"answer_sentence\"])\n",
    "for i, s in enumerate(df_wo_yes_no_answers.iloc[8][\"text_sentences\"]):\n",
    "    print(i,\" >>> \",s)"
   ]
  },
  {
   "cell_type": "raw",
   "id": "1210ca85-fa1d-47c1-a20b-c315a5734ea7",
   "metadata": {},
   "source": []
  },
  {
   "cell_type": "code",
   "execution_count": 161,
   "id": "b4816a26-b3ac-40c4-81a1-61a0e94921c5",
   "metadata": {
    "tags": []
   },
   "outputs": [
    {
     "name": "stdout",
     "output_type": "stream",
     "text": [
      "0\n",
      "9\n",
      "Nespoutaný Django (v anglickém originále Django Unchained) je americký western režiséra Quentina Tarantina z roku 2012.\n",
      "Quentina Tarantina\n",
      "True\n",
      "Nespoutaný Django (v anglickém originále Django Unchained) je americký western režiséra Quentina Tarantina z roku 2012.\n",
      "Nespoutaný Django (v anglickém originále Django Unchained) je americký western režiséra Quentina Tarantina z roku 2012. Film se odehrává v jižních státech USA a zaměřuje se na Djanga, osvobozeného otroka, který cestuje napříč Spojenými státy v doprovodu doktora Kinga Schultze, nájemného lovce lidí. V hlavních rolích hrají Jamie Foxx, Christoph Waltz, Leonardo DiCaprio, Kerry Washingtonová a Samuel L. Jackson. Snímek získal dva Zlaté glóby v kategoriích Nejlepší herec ve vedlejší roli (Christoph Waltz) a Nejlepší scénář (Quentin Tarantino), kromě toho byl ještě nominován v kategoriích Nejlepší film (drama), Nejlepší režie (Quentin Tarantino) a Nejlepší herec ve vedlejší roli (Leonardo DiCaprio). Získal také dva Oscary v kategoriích Nejlepší herec ve vedlejší roli (Christoph Waltz) a Nejlepší původní scénář (Quentin Tarantino), kromě toho byl také nominován v kategoriích Nejlepší film, Nejlepší kamera (Robert Richardson) a Nejlepší střih zvuku (Wylie Stateman).\n"
     ]
    }
   ],
   "source": [
    "x = 8\n",
    "ind = get_sentence_index(df.iloc[x])\n",
    "print(ind)\n",
    "print(df[\"question_number\"].iloc[x])\n",
    "#df[\"question\"].iloc[x] = \n",
    "print(df[\"answer_sentence\"].iloc[x])\n",
    "#df[\"answer_sentence\"].iloc[x] = \"Man-in-the-middle (zkratka MITM, z angličtiny \\\"člověk uprostřed\\\" nebo \\\"člověk mezi\\\") je v informatice název útoku na kryptografii.\"\n",
    "print(df[\"answer\"].iloc[x])\n",
    "#df[\"answer\"].iloc[x] = \"pět\"\n",
    "print(df[\"answer\"].iloc[x] in df[\"answer_sentence\"].iloc[x])\n",
    "print(df[\"text_sentences\"].iloc[x][ind])\n",
    "#df[\"text_sentences\"].iloc[x][ind] = \"Film produkoval Terry Gilliam a George Harisson.\"\n",
    "#df[\"text\"].iloc[x] = df[\"text\"].iloc[x].replace(\"Film produkoval Terry Giliam a George Harisson.\", \"Film produkoval Terry Gilliam a George Harisson.\")\n",
    "print(df[\"text\"].iloc[x])\n",
    "#df.drop(2102, inplace=\"True\")"
   ]
  },
  {
   "cell_type": "code",
   "execution_count": 162,
   "id": "df45de16-fb31-44b6-87d5-d431db070aa2",
   "metadata": {},
   "outputs": [],
   "source": [
    "class MismatchError(Exception):\n",
    "    pass"
   ]
  },
  {
   "cell_type": "code",
   "execution_count": 182,
   "id": "6956d82a-c1ed-4e5a-b4a1-e92484ded673",
   "metadata": {
    "tags": []
   },
   "outputs": [
    {
     "name": "stderr",
     "output_type": "stream",
     "text": [
      "Comparing found answer sentences with true answer sentences and creating SQuAD-format dataframe: 100%|█| 13473/13473 [00"
     ]
    },
    {
     "name": "stdout",
     "output_type": "stream",
     "text": [
      "\n",
      "All indexed answer sentences are correct\n"
     ]
    },
    {
     "name": "stderr",
     "output_type": "stream",
     "text": [
      "\n"
     ]
    },
    {
     "data": {
      "text/html": [
       "<div>\n",
       "<style scoped>\n",
       "    .dataframe tbody tr th:only-of-type {\n",
       "        vertical-align: middle;\n",
       "    }\n",
       "\n",
       "    .dataframe tbody tr th {\n",
       "        vertical-align: top;\n",
       "    }\n",
       "\n",
       "    .dataframe thead th {\n",
       "        text-align: right;\n",
       "    }\n",
       "</style>\n",
       "<table border=\"1\" class=\"dataframe\">\n",
       "  <thead>\n",
       "    <tr style=\"text-align: right;\">\n",
       "      <th></th>\n",
       "      <th>question_number</th>\n",
       "      <th>question</th>\n",
       "      <th>text</th>\n",
       "      <th>answer_sentence</th>\n",
       "      <th>answer</th>\n",
       "      <th>answer_start</th>\n",
       "    </tr>\n",
       "  </thead>\n",
       "  <tbody>\n",
       "    <tr>\n",
       "      <th>0</th>\n",
       "      <td>1</td>\n",
       "      <td>Kdo je autorem novely Létající jaguár?</td>\n",
       "      <td>Létající jaguár je novela spisovatele Josefa F...</td>\n",
       "      <td>Létající jaguár je novela spisovatele Josefa F...</td>\n",
       "      <td>Josefa Formánka</td>\n",
       "      <td>38</td>\n",
       "    </tr>\n",
       "    <tr>\n",
       "      <th>1</th>\n",
       "      <td>2</td>\n",
       "      <td>Jak se nazývá věda zabývající se houbami?</td>\n",
       "      <td>Houby (Fungi, dříve Mycophyta) představují vel...</td>\n",
       "      <td>Věda zabývající se houbami se nazývá mykologie.</td>\n",
       "      <td>mykologie</td>\n",
       "      <td>798</td>\n",
       "    </tr>\n",
       "    <tr>\n",
       "      <th>2</th>\n",
       "      <td>3</td>\n",
       "      <td>Jak se nazývá strom, jehož zrna jsou využívána...</td>\n",
       "      <td>Čokoláda je obvyklá součást nejrůznějších druh...</td>\n",
       "      <td>Čokoláda se vyrábí z kvašených, pražených a ml...</td>\n",
       "      <td>Theobroma cacao</td>\n",
       "      <td>287</td>\n",
       "    </tr>\n",
       "    <tr>\n",
       "      <th>3</th>\n",
       "      <td>4</td>\n",
       "      <td>Kdo se stal prvním prezidentem České republiky?</td>\n",
       "      <td>Václav Havel (5. října 1936 Praha – 18. prosin...</td>\n",
       "      <td>Václav Havel (5. října 1936 Praha – 18. prosin...</td>\n",
       "      <td>Václav Havel</td>\n",
       "      <td>0</td>\n",
       "    </tr>\n",
       "    <tr>\n",
       "      <th>4</th>\n",
       "      <td>5</td>\n",
       "      <td>Do jaké čeledi rostlin patří pampeliška?</td>\n",
       "      <td>Pampeliška (Taraxacum), či také smetánka, je z...</td>\n",
       "      <td>Pampeliška (Taraxacum), či také smetánka, je z...</td>\n",
       "      <td>hvězdnicovité</td>\n",
       "      <td>86</td>\n",
       "    </tr>\n",
       "  </tbody>\n",
       "</table>\n",
       "</div>"
      ],
      "text/plain": [
       "   question_number                                           question  \\\n",
       "0                1             Kdo je autorem novely Létající jaguár?   \n",
       "1                2          Jak se nazývá věda zabývající se houbami?   \n",
       "2                3  Jak se nazývá strom, jehož zrna jsou využívána...   \n",
       "3                4    Kdo se stal prvním prezidentem České republiky?   \n",
       "4                5           Do jaké čeledi rostlin patří pampeliška?   \n",
       "\n",
       "                                                text  \\\n",
       "0  Létající jaguár je novela spisovatele Josefa F...   \n",
       "1  Houby (Fungi, dříve Mycophyta) představují vel...   \n",
       "2  Čokoláda je obvyklá součást nejrůznějších druh...   \n",
       "3  Václav Havel (5. října 1936 Praha – 18. prosin...   \n",
       "4  Pampeliška (Taraxacum), či také smetánka, je z...   \n",
       "\n",
       "                                     answer_sentence           answer  \\\n",
       "0  Létající jaguár je novela spisovatele Josefa F...  Josefa Formánka   \n",
       "1    Věda zabývající se houbami se nazývá mykologie.        mykologie   \n",
       "2  Čokoláda se vyrábí z kvašených, pražených a ml...  Theobroma cacao   \n",
       "3  Václav Havel (5. října 1936 Praha – 18. prosin...     Václav Havel   \n",
       "4  Pampeliška (Taraxacum), či také smetánka, je z...    hvězdnicovité   \n",
       "\n",
       "   answer_start  \n",
       "0            38  \n",
       "1           798  \n",
       "2           287  \n",
       "3             0  \n",
       "4            86  "
      ]
     },
     "execution_count": 182,
     "metadata": {},
     "output_type": "execute_result"
    }
   ],
   "source": [
    "#tmp = 5631\n",
    "#start_sentence_index = df_wo_yes_no_answers[\"text\"].iloc[tmp].index(df_wo_yes_no_answers[\"answer_sentence\"].iloc[tmp])\n",
    "#print(start_sentence_index)\n",
    "#print(df_wo_yes_no_answers[\"answer_sentence\"].iloc[tmp])\n",
    "#print(df_wo_yes_no_answers[\"text\"].iloc[tmp][start_sentence_index:(start_sentence_index+len(df_wo_yes_no_answers[\"answer_sentence\"].iloc[tmp]))])\n",
    "\n",
    "data = []\n",
    "for row in tqdm(df_wo_yes_no_answers.iloc, desc=\"Comparing found answer sentences with true answer sentences and creating SQuAD-format dataframe\", total=13473):\n",
    "    try:\n",
    "        start_sentence_index = row.text.index(row.answer_sentence)\n",
    "        answer_sentence = row.answer_sentence\n",
    "        found_answer_sentence = row.text[start_sentence_index:(start_sentence_index+len(row.answer_sentence))]\n",
    "        exact_answer = None\n",
    "        #row.answer.split('#')[0].strip()\n",
    "        answers = row.answer.split('#')\n",
    "        for ans in  row.answer.split('#'):\n",
    "            if ans in answer_sentence:\n",
    "                exact_answer = ans.strip()\n",
    "                break\n",
    "        if exact_answer is None:\n",
    "            continue\n",
    "        answer_start = start_sentence_index + answer_sentence.lower().index(exact_answer.lower())\n",
    "        found_answer = row.text[answer_start:(answer_start)+len(exact_answer)]\n",
    "        #print(row.question)\n",
    "        #print(repr(exact_answer))\n",
    "        #print(repr(found_answer))\n",
    "        if found_answer.lower() != exact_answer.lower():\n",
    "                continue\n",
    "        data.append([row.question_number, row.question, row.text, answer_sentence, exact_answer, answer_start])\n",
    "    except ValueError:\n",
    "        print(\"Answer sentence start: \", start_sentence_index)\n",
    "        print(\"Answer sentence  text: \", answer_sentence)\n",
    "        print(\"Answer start index: \", answer_start)\n",
    "        #print(\"added to start index: \",answer_sentence.lower().index(exact_answer.lower()))\n",
    "        print(\"Found answer sentence: \", found_answer_sentence)\n",
    "        print(\"Found answer: \", found_answer)\n",
    "        print(\"Exact answer: \",exact_answer)\n",
    "        print(row.question_number)\n",
    "print()\n",
    "print(\"Task completed\")\n",
    "squad_format = pd.DataFrame(data, columns=[\"question_number\", \"question\", \"text\", \"answer_sentence\", \"answer\", \"answer_start\"])\n",
    "squad_format.head()"
   ]
  },
  {
   "cell_type": "markdown",
   "id": "65c9c6f1-a6bd-4a8d-bf59-fd6f469c8232",
   "metadata": {},
   "source": [
    "### Check if the answer_start and answer columns are set correctly"
   ]
  },
  {
   "cell_type": "code",
   "execution_count": 200,
   "id": "19f437b8-8181-4036-ac21-b288d404c40e",
   "metadata": {},
   "outputs": [
    {
     "name": "stdout",
     "output_type": "stream",
     "text": [
      "Done, all rows are correct\n"
     ]
    }
   ],
   "source": [
    "try:\n",
    "    for index, row in enumerate(squad_format.iloc):\n",
    "        found_answer = row.text[row.answer_start:row.answer_start+len(row.answer)]\n",
    "        #print(row.answer, found_answer, row.answer.lower() == found_answer.lower())\n",
    "        if row.answer.lower() != found_answer.lower():\n",
    "            print(row.answer, found_answer)\n",
    "            raise ValueError\n",
    "except ValueError:\n",
    "        print(\"Some rows are not correct\")\n",
    "else:\n",
    "    print(\"Done, all rows are correct\")\n",
    "    "
   ]
  },
  {
   "cell_type": "code",
   "execution_count": 201,
   "id": "edcef242-065c-4be9-b7a7-d60b1249c013",
   "metadata": {},
   "outputs": [
    {
     "data": {
      "text/html": [
       "<div>\n",
       "<style scoped>\n",
       "    .dataframe tbody tr th:only-of-type {\n",
       "        vertical-align: middle;\n",
       "    }\n",
       "\n",
       "    .dataframe tbody tr th {\n",
       "        vertical-align: top;\n",
       "    }\n",
       "\n",
       "    .dataframe thead th {\n",
       "        text-align: right;\n",
       "    }\n",
       "</style>\n",
       "<table border=\"1\" class=\"dataframe\">\n",
       "  <thead>\n",
       "    <tr style=\"text-align: right;\">\n",
       "      <th></th>\n",
       "      <th>question_number</th>\n",
       "      <th>question</th>\n",
       "      <th>text</th>\n",
       "      <th>answer_sentence</th>\n",
       "      <th>answer</th>\n",
       "      <th>answer_start</th>\n",
       "    </tr>\n",
       "  </thead>\n",
       "  <tbody>\n",
       "    <tr>\n",
       "      <th>0</th>\n",
       "      <td>1</td>\n",
       "      <td>Kdo je autorem novely Létající jaguár?</td>\n",
       "      <td>Létající jaguár je novela spisovatele Josefa F...</td>\n",
       "      <td>Létající jaguár je novela spisovatele Josefa F...</td>\n",
       "      <td>Josefa Formánka</td>\n",
       "      <td>38</td>\n",
       "    </tr>\n",
       "    <tr>\n",
       "      <th>1</th>\n",
       "      <td>2</td>\n",
       "      <td>Jak se nazývá věda zabývající se houbami?</td>\n",
       "      <td>Houby (Fungi, dříve Mycophyta) představují vel...</td>\n",
       "      <td>Věda zabývající se houbami se nazývá mykologie.</td>\n",
       "      <td>mykologie</td>\n",
       "      <td>798</td>\n",
       "    </tr>\n",
       "    <tr>\n",
       "      <th>2</th>\n",
       "      <td>3</td>\n",
       "      <td>Jak se nazývá strom, jehož zrna jsou využívána...</td>\n",
       "      <td>Čokoláda je obvyklá součást nejrůznějších druh...</td>\n",
       "      <td>Čokoláda se vyrábí z kvašených, pražených a ml...</td>\n",
       "      <td>Theobroma cacao</td>\n",
       "      <td>287</td>\n",
       "    </tr>\n",
       "    <tr>\n",
       "      <th>3</th>\n",
       "      <td>4</td>\n",
       "      <td>Kdo se stal prvním prezidentem České republiky?</td>\n",
       "      <td>Václav Havel (5. října 1936 Praha – 18. prosin...</td>\n",
       "      <td>Václav Havel (5. října 1936 Praha – 18. prosin...</td>\n",
       "      <td>Václav Havel</td>\n",
       "      <td>0</td>\n",
       "    </tr>\n",
       "    <tr>\n",
       "      <th>4</th>\n",
       "      <td>5</td>\n",
       "      <td>Do jaké čeledi rostlin patří pampeliška?</td>\n",
       "      <td>Pampeliška (Taraxacum), či také smetánka, je z...</td>\n",
       "      <td>Pampeliška (Taraxacum), či také smetánka, je z...</td>\n",
       "      <td>hvězdnicovité</td>\n",
       "      <td>86</td>\n",
       "    </tr>\n",
       "    <tr>\n",
       "      <th>...</th>\n",
       "      <td>...</td>\n",
       "      <td>...</td>\n",
       "      <td>...</td>\n",
       "      <td>...</td>\n",
       "      <td>...</td>\n",
       "      <td>...</td>\n",
       "    </tr>\n",
       "    <tr>\n",
       "      <th>12438</th>\n",
       "      <td>13468</td>\n",
       "      <td>Kterou společností bylo zakoupeno 6 vozů k dop...</td>\n",
       "      <td>Metro v Norimberku, německy Nürnberg U-Bahn, j...</td>\n",
       "      <td>V roce 2004 bylo společností VGA zakoupeno 6 v...</td>\n",
       "      <td>VGA</td>\n",
       "      <td>1191</td>\n",
       "    </tr>\n",
       "    <tr>\n",
       "      <th>12439</th>\n",
       "      <td>13469</td>\n",
       "      <td>Mají borelovské množiny název po Émile Borelovi?</td>\n",
       "      <td>Borelovská množina v matematice je libovolná m...</td>\n",
       "      <td>Název mají po francouzském matematikovi Émile ...</td>\n",
       "      <td>Název mají po francouzském matematikovi Émile ...</td>\n",
       "      <td>236</td>\n",
       "    </tr>\n",
       "    <tr>\n",
       "      <th>12440</th>\n",
       "      <td>13471</td>\n",
       "      <td>Je Thomas Hylland Eriksen neznámý norský spiso...</td>\n",
       "      <td>Thomas Hylland Eriksen (* 6. února 1962, Oslo,...</td>\n",
       "      <td>Thomas Hylland Eriksen (* 6. února 1962, Oslo,...</td>\n",
       "      <td>Thomas Hylland Eriksen (* 6. února 1962, Oslo,...</td>\n",
       "      <td>0</td>\n",
       "    </tr>\n",
       "    <tr>\n",
       "      <th>12441</th>\n",
       "      <td>13472</td>\n",
       "      <td>Kterou technologií vysílá televizní kanál Trojka?</td>\n",
       "      <td>Trojka byla třetí slovenský kanál Slovenské te...</td>\n",
       "      <td>Televizní kanál vysílá technologií DVB-T a tak...</td>\n",
       "      <td>DVB-T</td>\n",
       "      <td>323</td>\n",
       "    </tr>\n",
       "    <tr>\n",
       "      <th>12442</th>\n",
       "      <td>13473</td>\n",
       "      <td>V gesci koho došlo k velké rekonstrukci budovy...</td>\n",
       "      <td>Plodinová burza je novorenesanční budova (po f...</td>\n",
       "      <td>K velké rekonstrukci budovy došlo ve druhé pol...</td>\n",
       "      <td>ČNB</td>\n",
       "      <td>8248</td>\n",
       "    </tr>\n",
       "  </tbody>\n",
       "</table>\n",
       "<p>12443 rows × 6 columns</p>\n",
       "</div>"
      ],
      "text/plain": [
       "       question_number                                           question  \\\n",
       "0                    1             Kdo je autorem novely Létající jaguár?   \n",
       "1                    2          Jak se nazývá věda zabývající se houbami?   \n",
       "2                    3  Jak se nazývá strom, jehož zrna jsou využívána...   \n",
       "3                    4    Kdo se stal prvním prezidentem České republiky?   \n",
       "4                    5           Do jaké čeledi rostlin patří pampeliška?   \n",
       "...                ...                                                ...   \n",
       "12438            13468  Kterou společností bylo zakoupeno 6 vozů k dop...   \n",
       "12439            13469   Mají borelovské množiny název po Émile Borelovi?   \n",
       "12440            13471  Je Thomas Hylland Eriksen neznámý norský spiso...   \n",
       "12441            13472  Kterou technologií vysílá televizní kanál Trojka?   \n",
       "12442            13473  V gesci koho došlo k velké rekonstrukci budovy...   \n",
       "\n",
       "                                                    text  \\\n",
       "0      Létající jaguár je novela spisovatele Josefa F...   \n",
       "1      Houby (Fungi, dříve Mycophyta) představují vel...   \n",
       "2      Čokoláda je obvyklá součást nejrůznějších druh...   \n",
       "3      Václav Havel (5. října 1936 Praha – 18. prosin...   \n",
       "4      Pampeliška (Taraxacum), či také smetánka, je z...   \n",
       "...                                                  ...   \n",
       "12438  Metro v Norimberku, německy Nürnberg U-Bahn, j...   \n",
       "12439  Borelovská množina v matematice je libovolná m...   \n",
       "12440  Thomas Hylland Eriksen (* 6. února 1962, Oslo,...   \n",
       "12441  Trojka byla třetí slovenský kanál Slovenské te...   \n",
       "12442  Plodinová burza je novorenesanční budova (po f...   \n",
       "\n",
       "                                         answer_sentence  \\\n",
       "0      Létající jaguár je novela spisovatele Josefa F...   \n",
       "1        Věda zabývající se houbami se nazývá mykologie.   \n",
       "2      Čokoláda se vyrábí z kvašených, pražených a ml...   \n",
       "3      Václav Havel (5. října 1936 Praha – 18. prosin...   \n",
       "4      Pampeliška (Taraxacum), či také smetánka, je z...   \n",
       "...                                                  ...   \n",
       "12438  V roce 2004 bylo společností VGA zakoupeno 6 v...   \n",
       "12439  Název mají po francouzském matematikovi Émile ...   \n",
       "12440  Thomas Hylland Eriksen (* 6. února 1962, Oslo,...   \n",
       "12441  Televizní kanál vysílá technologií DVB-T a tak...   \n",
       "12442  K velké rekonstrukci budovy došlo ve druhé pol...   \n",
       "\n",
       "                                                  answer  answer_start  \n",
       "0                                        Josefa Formánka            38  \n",
       "1                                              mykologie           798  \n",
       "2                                        Theobroma cacao           287  \n",
       "3                                           Václav Havel             0  \n",
       "4                                          hvězdnicovité            86  \n",
       "...                                                  ...           ...  \n",
       "12438                                                VGA          1191  \n",
       "12439  Název mají po francouzském matematikovi Émile ...           236  \n",
       "12440  Thomas Hylland Eriksen (* 6. února 1962, Oslo,...             0  \n",
       "12441                                              DVB-T           323  \n",
       "12442                                                ČNB          8248  \n",
       "\n",
       "[12443 rows x 6 columns]"
      ]
     },
     "execution_count": 201,
     "metadata": {},
     "output_type": "execute_result"
    }
   ],
   "source": [
    "squad_format"
   ]
  },
  {
   "cell_type": "markdown",
   "id": "18bfbb7c-06c6-40a6-b225-393462f53836",
   "metadata": {},
   "source": [
    "# Convert to JSON "
   ]
  },
  {
   "cell_type": "code",
   "execution_count": 206,
   "id": "55ce35da-836c-4165-a6d7-c6a262198f8d",
   "metadata": {},
   "outputs": [],
   "source": [
    "import json"
   ]
  },
  {
   "cell_type": "code",
   "execution_count": 210,
   "id": "21df6df1-678f-4e28-9479-d9201d548941",
   "metadata": {},
   "outputs": [
    {
     "name": "stderr",
     "output_type": "stream",
     "text": [
      "creating JSON objects: 100%|████████████████████████████████████████████████████| 12443/12443 [00:01<00:00, 9198.28it/s]\n"
     ]
    }
   ],
   "source": [
    "\"\"\"\n",
    "{\n",
    "    \"answers\": {\n",
    "        \"answer_start\": [1],\n",
    "        \"text\": [\"This is a test text\"]\n",
    "    },\n",
    "    \"context\": \"This is a test context.\",\n",
    "    \"id\": \"1\",\n",
    "    \"question\": \"Is this a test?\",\n",
    "    \"title\": \"train test\"\n",
    "}\n",
    "\"\"\"\n",
    "\n",
    "json_data = []\n",
    "for row in tqdm(squad_format.iloc, desc=\"Creating JSON objects\", total=12443):\n",
    "    data = {\n",
    "                \"answers\": {\n",
    "                  \"answer_start\": [int(row.answer_start)],\n",
    "                  \"text\": [row.answer]\n",
    "                },\n",
    "                \"context\": row.text,\n",
    "                \"id\": int(row.question_number),\n",
    "                \"question\": row.question,\n",
    "                \"title\": row.question\n",
    "            }\n",
    "    json_data.append(data)\n",
    "\n",
    "json_string = json.dumps(json_data)\n",
    "with open(\"sqad.json\", \"w\") as json_file:\n",
    "    json_file.write(json_string)"
   ]
  },
  {
   "cell_type": "markdown",
   "id": "87f67eeb-6272-4e0a-afd3-e5b345cd715d",
   "metadata": {
    "tags": []
   },
   "source": [
    "To be continued..."
   ]
  },
  {
   "cell_type": "code",
   "execution_count": null,
   "id": "c59f5ea6-774c-4ebb-b477-770663318f30",
   "metadata": {},
   "outputs": [],
   "source": []
  }
 ],
 "metadata": {
  "kernelspec": {
   "display_name": "Python 3 (ipykernel)",
   "language": "python",
   "name": "python3"
  },
  "language_info": {
   "codemirror_mode": {
    "name": "ipython",
    "version": 3
   },
   "file_extension": ".py",
   "mimetype": "text/x-python",
   "name": "python",
   "nbconvert_exporter": "python",
   "pygments_lexer": "ipython3",
   "version": "3.8.0"
  }
 },
 "nbformat": 4,
 "nbformat_minor": 5
}
